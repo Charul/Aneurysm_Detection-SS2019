{
 "cells": [
  {
   "cell_type": "code",
   "execution_count": 2,
   "metadata": {},
   "outputs": [],
   "source": [
    "import glob \n",
    "import numpy as np\n",
    "from PIL import Image"
   ]
  },
  {
   "cell_type": "code",
   "execution_count": 3,
   "metadata": {},
   "outputs": [
    {
     "name": "stdout",
     "output_type": "stream",
     "text": [
      "In folder ./images/Patient-0\n",
      "In folder ./images/Patient-1\n",
      "In folder ./images/Patient-10\n",
      "In folder ./images/Patient-100\n",
      "In folder ./images/Patient-101\n",
      "In folder ./images/Patient-102\n",
      "In folder ./images/Patient-103\n",
      "In folder ./images/Patient-104\n",
      "In folder ./images/Patient-105\n",
      "In folder ./images/Patient-11\n",
      "In folder ./images/Patient-12\n",
      "In folder ./images/Patient-13\n",
      "In folder ./images/Patient-14\n",
      "In folder ./images/Patient-15\n",
      "In folder ./images/Patient-16\n",
      "In folder ./images/Patient-17\n",
      "In folder ./images/Patient-18\n",
      "In folder ./images/Patient-19\n",
      "In folder ./images/Patient-2\n",
      "In folder ./images/Patient-20\n",
      "In folder ./images/Patient-21\n",
      "In folder ./images/Patient-22\n",
      "In folder ./images/Patient-23\n",
      "In folder ./images/Patient-24\n",
      "In folder ./images/Patient-25\n",
      "In folder ./images/Patient-26\n",
      "In folder ./images/Patient-27\n",
      "In folder ./images/Patient-28\n",
      "In folder ./images/Patient-29\n",
      "In folder ./images/Patient-3\n",
      "In folder ./images/Patient-30\n",
      "In folder ./images/Patient-31\n",
      "In folder ./images/Patient-32\n",
      "In folder ./images/Patient-33\n",
      "In folder ./images/Patient-34\n",
      "In folder ./images/Patient-35\n",
      "In folder ./images/Patient-36\n",
      "In folder ./images/Patient-37\n",
      "In folder ./images/Patient-38\n",
      "In folder ./images/Patient-39\n",
      "In folder ./images/Patient-4\n",
      "In folder ./images/Patient-40\n",
      "In folder ./images/Patient-41\n",
      "In folder ./images/Patient-42\n",
      "In folder ./images/Patient-43\n",
      "In folder ./images/Patient-44\n",
      "In folder ./images/Patient-45\n",
      "In folder ./images/Patient-46\n",
      "In folder ./images/Patient-47\n",
      "In folder ./images/Patient-48\n"
     ]
    }
   ],
   "source": [
    "images = []\n",
    "folders_name = glob.glob(\"./images/*\")\n",
    "folders_name.sort()\n",
    "for file in folders_name[:50]: #crashes after 50\n",
    "    slice_names = glob.glob(file +\"/*.jpeg\")\n",
    "    print(\"In folder {}\".format(file))\n",
    "    for one_slice in slice_names:\n",
    "        img = Image.open(one_slice)\n",
    "        img = np.array(img)\n",
    "        images.append(img[:,:,0])\n",
    "images = np.array(images)\n",
    "images.dump('all_slices_image_1channel.npy')"
   ]
  },
  {
   "cell_type": "code",
   "execution_count": 4,
   "metadata": {},
   "outputs": [
    {
     "name": "stdout",
     "output_type": "stream",
     "text": [
      "In folder ./masks/Patient-0\n",
      "In folder ./masks/Patient-1\n",
      "In folder ./masks/Patient-10\n",
      "In folder ./masks/Patient-100\n",
      "In folder ./masks/Patient-101\n",
      "In folder ./masks/Patient-102\n",
      "In folder ./masks/Patient-103\n",
      "In folder ./masks/Patient-104\n",
      "In folder ./masks/Patient-105\n",
      "In folder ./masks/Patient-11\n",
      "In folder ./masks/Patient-12\n",
      "In folder ./masks/Patient-13\n",
      "In folder ./masks/Patient-14\n",
      "In folder ./masks/Patient-15\n",
      "In folder ./masks/Patient-16\n",
      "In folder ./masks/Patient-17\n",
      "In folder ./masks/Patient-18\n",
      "In folder ./masks/Patient-19\n",
      "In folder ./masks/Patient-2\n",
      "In folder ./masks/Patient-20\n",
      "In folder ./masks/Patient-21\n",
      "In folder ./masks/Patient-22\n",
      "In folder ./masks/Patient-23\n",
      "In folder ./masks/Patient-24\n",
      "In folder ./masks/Patient-25\n",
      "In folder ./masks/Patient-26\n",
      "In folder ./masks/Patient-27\n",
      "In folder ./masks/Patient-28\n",
      "In folder ./masks/Patient-29\n",
      "In folder ./masks/Patient-3\n",
      "In folder ./masks/Patient-30\n",
      "In folder ./masks/Patient-31\n",
      "In folder ./masks/Patient-32\n",
      "In folder ./masks/Patient-33\n",
      "In folder ./masks/Patient-34\n",
      "In folder ./masks/Patient-35\n",
      "In folder ./masks/Patient-36\n",
      "In folder ./masks/Patient-37\n",
      "In folder ./masks/Patient-38\n",
      "In folder ./masks/Patient-39\n",
      "In folder ./masks/Patient-4\n",
      "In folder ./masks/Patient-40\n",
      "In folder ./masks/Patient-41\n",
      "In folder ./masks/Patient-42\n",
      "In folder ./masks/Patient-43\n",
      "In folder ./masks/Patient-44\n",
      "In folder ./masks/Patient-45\n",
      "In folder ./masks/Patient-46\n",
      "In folder ./masks/Patient-47\n",
      "In folder ./masks/Patient-48\n"
     ]
    }
   ],
   "source": [
    "images = []\n",
    "folders_name = glob.glob(\"./masks/*\")\n",
    "folders_name.sort()\n",
    "for file in folders_name[:50]:\n",
    "    mask_names = glob.glob(file+\"/*.jpeg\")\n",
    "    print(\"In folder {}\".format(file))\n",
    "    for mask_slice in mask_names:\n",
    "        img = Image.open(mask_slice)\n",
    "        img = np.array(img)\n",
    "        images.append(img[:,:,0])\n",
    "images = np.array(images)\n",
    "images.dump('all_slices_mask_1channel.npy')"
   ]
  },
  {
   "cell_type": "code",
   "execution_count": null,
   "metadata": {},
   "outputs": [],
   "source": [
    "'''\n",
    "images = []\n",
    "folders_name = glob.glob(\"./image/*\")\n",
    "folders_name.sort()\n",
    "for file_ in folders_name[50:]:\n",
    "    file_name = glob.glob(file_+\"/*.jpeg\")\n",
    "    print(\"In folder {}\".format(file_))\n",
    "    for row in file_name:\n",
    "        img = Image.open(row)\n",
    "        img = np.array(img)\n",
    "        images.append(img[:,:,:])\n",
    "images = np.array(images)\n",
    "images.dump('all_slices_image_2.npy') '''"
   ]
  },
  {
   "cell_type": "code",
   "execution_count": null,
   "metadata": {},
   "outputs": [],
   "source": [
    "'''\n",
    "images = []\n",
    "folders_name = glob.glob(\"./mask/*\")\n",
    "folders_name.sort()\n",
    "for file_ in folders_name[50:]:\n",
    "    file_name = glob.glob(file_+\"/*.jpeg\")\n",
    "    print(\"In folder {}\".format(file_))\n",
    "    for row in file_name:\n",
    "        img = Image.open(row)\n",
    "        img = np.array(img)\n",
    "        images.append(img[:,:,:])\n",
    "images = np.array(images)\n",
    "images.dump('all_slices_mask2d.npy')'''"
   ]
  },
  {
   "cell_type": "code",
   "execution_count": 4,
   "metadata": {},
   "outputs": [],
   "source": [
    "import glob \n",
    "import numpy as np\n",
    "from PIL import Image"
   ]
  },
  {
   "cell_type": "code",
   "execution_count": null,
   "metadata": {},
   "outputs": [],
   "source": [
    "x1 = np.load(\"all_slices_image_1.npy\")\n",
    "#x2 = np.load(\"all_slices_image_2.npy\")"
   ]
  }
 ],
 "metadata": {
  "kernelspec": {
   "display_name": "Python 3",
   "language": "python",
   "name": "python3"
  },
  "language_info": {
   "codemirror_mode": {
    "name": "ipython",
    "version": 3
   },
   "file_extension": ".py",
   "mimetype": "text/x-python",
   "name": "python",
   "nbconvert_exporter": "python",
   "pygments_lexer": "ipython3",
   "version": "3.7.3"
  }
 },
 "nbformat": 4,
 "nbformat_minor": 2
}
